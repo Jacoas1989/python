{
 "cells": [
  {
   "cell_type": "markdown",
   "metadata": {},
   "source": [
    "# Ejercicio 1\n",
    "\n",
    "Localiza el error en el siguiente bloque de código. Crea una excepción para evitar que el programa se bloquee y además explica en un mensaje al usuario la causa y/o solución:\n",
    "\n",
    "* resultado = 10/0"
   ]
  },
  {
   "cell_type": "code",
   "execution_count": null,
   "metadata": {},
   "outputs": [],
   "source": [
    "while True:\n",
    "    try:\n",
    "        denominador= float(input(\"introduce un denominador: \"))\n",
    "        resultado = 10/denominador\n",
    "        print(resultado)\n",
    "        break\n",
    "    except ValueError:\n",
    "        print(\"No se puede dividir por un string\")\n",
    "    except ZeroDivisionError:\n",
    "        print(\"No se puede dividir por 0\")\n",
    "        denominador = float(input(\"introduce un denominador que no sea un 0: \")) \n",
    "    except Exception as e:  # guardamos la excepción como una variable e\n",
    "        print(\"Ha ocurrido un error =>\", type(e).__name__)\n",
    "        break"
   ]
  },
  {
   "cell_type": "markdown",
   "metadata": {},
   "source": [
    "# Ejercicio 2\n",
    "\n",
    "Localiza el error en el siguiente bloque de código. Crea una excepción para evitar que el programa se bloquee y además explica en un mensaje al usuario la causa y/o solución:\n",
    "\n",
    "* lista = [1, 2, 3, 4, 5]\n",
    "* lista[10]"
   ]
  },
  {
   "cell_type": "code",
   "execution_count": null,
   "metadata": {},
   "outputs": [],
   "source": [
    "lista = [1, 2, 3, 4, 5]\n",
    "while True:\n",
    "    try:\n",
    "        i=int((input(\"Introduce un numero para actuar de indice y mostar el numero correspondiente en la lista:\")))\n",
    "        print(\"el numero de la lista es el:\",lista[i])\n",
    "        break\n",
    "    except IndexError:\n",
    "        print(\"Error: introduce un numero igual o mayor que 0 y menor que :\",len(lista))\n",
    "        \n",
    "    except Exception as e:\n",
    "        print(\"Ha ocurrido un error =>\", type(e).__name__)\n",
    "        break\n",
    "    "
   ]
  },
  {
   "cell_type": "markdown",
   "metadata": {},
   "source": [
    "# Ejercicio 3\n",
    "\n",
    "Localiza el error en el siguiente bloque de código. Crea una excepción para evitar que el programa se bloquee y además explica en un mensaje al usuario la causa y/o solución:\n",
    "\n",
    "* colores = { 'rojo':'red', 'verde':'green', 'negro':'black' } \n",
    "* colores['blanco']"
   ]
  },
  {
   "cell_type": "code",
   "execution_count": null,
   "metadata": {},
   "outputs": [],
   "source": [
    "colores = { 'rojo':'red', 'verde':'green', 'negro':'black' }\n",
    "try:\n",
    "    colores['blanco']\n",
    "except:\n",
    "    print(\"'Blanco' es un valor y no una clave\")"
   ]
  },
  {
   "cell_type": "markdown",
   "metadata": {},
   "source": [
    "# Ejercicio 4\n",
    "\n",
    "Localiza el error en el siguiente bloque de código. Crea una excepción para evitar que el programa se bloquee y además explica en un mensaje al usuario la causa y/o solución:\n",
    "\n",
    "* resultado = 15 + \"20\""
   ]
  },
  {
   "cell_type": "code",
   "execution_count": null,
   "metadata": {},
   "outputs": [],
   "source": [
    "try:\n",
    "    resultado = 15 + \"20\"\n",
    "except:\n",
    "    print(\"Error: no se puede sumar un string y un numero\")"
   ]
  },
  {
   "cell_type": "markdown",
   "metadata": {},
   "source": [
    "# Ejercicio 5\n",
    "\n",
    "Realiza una función llamada agregar_una_vez(lista, el) que reciba una lista y un elemento. \n",
    "* La función debe añadir el elemento al final de la lista con la condición de no repetir ningún elemento. \n",
    "* Además si este elemento ya se encuentra en la lista se debe invocar un error de tipo ValueError que debes capturar y mostrar este mensaje en su lugar:Error: Imposible añadir elementos duplicados => [elemento].\n",
    "\n",
    "Cuando tengas la función intenta añadir los siguiente valores a la lista 10, -2, \"Hola\" y luego muestra su contenido.\n",
    "\n",
    "* Sugerencia: Puedes utilizar la sintaxis \"elemento in lista\"\n",
    "\n",
    "* elementos = [1, 5, -2]\n",
    "<!--  -->"
   ]
  },
  {
   "cell_type": "code",
   "execution_count": 2,
   "metadata": {},
   "outputs": [
    {
     "name": "stdout",
     "output_type": "stream",
     "text": [
      "Error: Imposible añadir elementos duplicados => -2\n",
      "[1, 5, -2, 10, 'Hola']\n"
     ]
    }
   ],
   "source": [
    "elementos = [1, 5, -2]\n",
    "\n",
    "def agregar_una_vez(lista, el):\n",
    "    try:\n",
    "        if el in lista:\n",
    "            raise ValueError\n",
    "        else:\n",
    "            lista.append(el)\n",
    "    except ValueError:\n",
    "        print(\"Error: Imposible añadir elementos duplicados =>\", el)\n",
    "\n",
    "agregar_una_vez(elementos, 10)\n",
    "agregar_una_vez(elementos, -2)\n",
    "agregar_una_vez(elementos, \"Hola\")\n",
    "\n",
    "print(elementos)"
   ]
  },
  {
   "cell_type": "code",
   "execution_count": null,
   "metadata": {},
   "outputs": [],
   "source": []
  }
 ],
 "metadata": {
  "kernelspec": {
   "display_name": "Python 3",
   "language": "python",
   "name": "python3"
  },
  "language_info": {
   "codemirror_mode": {
    "name": "ipython",
    "version": 3
   },
   "file_extension": ".py",
   "mimetype": "text/x-python",
   "name": "python",
   "nbconvert_exporter": "python",
   "pygments_lexer": "ipython3",
   "version": "3.8.5"
  }
 },
 "nbformat": 4,
 "nbformat_minor": 4
}
