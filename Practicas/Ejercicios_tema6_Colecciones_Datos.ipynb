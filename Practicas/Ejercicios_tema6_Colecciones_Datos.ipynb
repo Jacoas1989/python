{
 "cells": [
  {
   "cell_type": "markdown",
   "metadata": {},
   "source": [
    "# Tema 6 : Colecciones de datos"
   ]
  },
  {
   "cell_type": "markdown",
   "metadata": {},
   "source": [
    "## Ejercicio 1\n",
    "\n",
    "Realiza un programa que siga las siguientes instrucciones:\n",
    "\n",
    "* Crea un conjunto llamado usuarios con los usuarios Marta, David, Elvira, Juan y Marcos\n",
    "* Crea un conjunto llamado administradores con los administradores Juan y Marta.\n",
    "* Borra al administrador Juan del conjunto de administradores.\n",
    "* Añade a Marcos como un nuevo administrador, pero no lo borres del conjunto de usuarios.\n",
    "* Muestra todos los usuarios por pantalla de forma dinámica, además debes indicar cada usuario es administrador o no.\n",
    "\n",
    "Sugerencia: Los conjuntos se pueden recorrer dinámicamente utilizando el bucle for de forma similar a una lista.\n",
    "También cuentan con un método llamado .discard(elemento) que sirve para borrar o descartar un elemento."
   ]
  },
  {
   "cell_type": "code",
   "execution_count": 1,
   "metadata": {},
   "outputs": [],
   "source": [
    "usuarios = {\"Marta\",\"David\",\"Elvira\",\"Juan\", \"Marcos\"}"
   ]
  },
  {
   "cell_type": "code",
   "execution_count": 2,
   "metadata": {},
   "outputs": [],
   "source": [
    "administradores = {\"Juan\", \"Marta\"}"
   ]
  },
  {
   "cell_type": "code",
   "execution_count": 3,
   "metadata": {},
   "outputs": [],
   "source": [
    "administradores.remove(\"Juan\")"
   ]
  },
  {
   "cell_type": "code",
   "execution_count": 4,
   "metadata": {},
   "outputs": [],
   "source": [
    "administradores.add(\"Marcos\")"
   ]
  },
  {
   "cell_type": "code",
   "execution_count": 5,
   "metadata": {},
   "outputs": [
    {
     "data": {
      "text/plain": [
       "{'Marcos', 'Marta'}"
      ]
     },
     "execution_count": 5,
     "metadata": {},
     "output_type": "execute_result"
    }
   ],
   "source": [
    "administradores"
   ]
  },
  {
   "cell_type": "code",
   "execution_count": 7,
   "metadata": {},
   "outputs": [
    {
     "name": "stdout",
     "output_type": "stream",
     "text": [
      "Juan no es un administrador\n",
      "David no es un administrador\n",
      "Marta  es un administrador\n",
      "Marcos  es un administrador\n",
      "Elvira no es un administrador\n"
     ]
    }
   ],
   "source": [
    "for u in usuarios:\n",
    "    if u in administradores:\n",
    "        print(u, \" es un administrador\")\n",
    "    else:\n",
    "        print(u, \"no es un administrador\")"
   ]
  },
  {
   "cell_type": "markdown",
   "metadata": {},
   "source": [
    "## Ejercicio 2\n",
    "\n",
    "Durante el desarrollo de un pequeño videojuego se te encarga configurar y balancear cada clase de personaje jugable. Partiendo que la estadística base es 2, debes cumplir las siguientes condiciones:\n",
    "\n",
    "* El caballero tiene el doble de vida y defensa que un guerrero.\n",
    "* El guerrero tiene el doble de ataque y alcance que un caballero.\n",
    "* El arquero tiene la misma vida y ataque que un guerrero, pero la mitad de su defensa y el doble de su alcance.\n",
    "* Muestra como quedan las propiedades de los tres personajes.\n",
    "\n"
   ]
  },
  {
   "cell_type": "code",
   "execution_count": 121,
   "metadata": {},
   "outputs": [
    {
     "name": "stdout",
     "output_type": "stream",
     "text": [
      "Caballero:\t {'vida': 4, 'ataque': 2, 'defensa': 4, 'alcance': 2}\n",
      "Guerrero:\t {'vida': 2, 'ataque': 4, 'defensa': 2, 'alcance': 4}\n",
      "Arquero:\t {'vida': 2, 'ataque': 4, 'defensa': 1.0, 'alcance': 8}\n"
     ]
    }
   ],
   "source": [
    "caballero = { 'vida':2, 'ataque':2, 'defensa': 2, 'alcance':2 }\n",
    "guerrero  = { 'vida':2, 'ataque':2, 'defensa': 2, 'alcance':2 }\n",
    "arquero   = { 'vida':2, 'ataque':2, 'defensa': 2, 'alcance':2 }\n",
    "\n",
    "\n",
    "caballero['vida']    = guerrero['vida'] * 2\n",
    "caballero['defensa'] = guerrero['defensa'] * 2\n",
    "\n",
    "guerrero['ataque']   = caballero['ataque'] * 2\n",
    "guerrero['alcance']  = caballero['alcance'] * 2\n",
    "\n",
    "arquero['vida']     = guerrero['vida']\n",
    "arquero['ataque']   = guerrero['ataque']\n",
    "arquero['defensa']  = guerrero['defensa'] / 2\n",
    "arquero['alcance']  = guerrero['alcance'] * 2\n",
    "\n",
    "print(\"Caballero:\\t\", caballero)\n",
    "print(\"Guerrero:\\t\", guerrero)\n",
    "print(\"Arquero:\\t\", arquero)"
   ]
  },
  {
   "cell_type": "markdown",
   "metadata": {},
   "source": [
    "## Ejercicio 3\n",
    "\n",
    "Durante la planificación de un proyecto se han acordado una lista de tareas. Para cada una de estas tareas se ha asignado un orden de prioridad (cuanto menor es el número de orden, más prioridad).\n",
    "\n",
    "¿Eres capaz de crear una estructura del tipo cola con todas las tareas ordenadas pero sin los números de orden?\n",
    "\n",
    "Sugerencia: Para ordenar automáticamente una lista es posible utilizar el método .sort(), deberias probarlo."
   ]
  },
  {
   "cell_type": "code",
   "execution_count": 173,
   "metadata": {},
   "outputs": [
    {
     "name": "stdout",
     "output_type": "stream",
     "text": [
      "==Tareas desordenadas==\n",
      "6 Distribución\n",
      "2 Diseño\n",
      "1 Concepción\n",
      "7 Mantenimiento\n",
      "4 Producción\n",
      "3 Planificación\n",
      "5 Pruebas\n"
     ]
    }
   ],
   "source": [
    "tareas = [ \n",
    "    [6, 'Distribución'],\n",
    "    [2, 'Diseño'],\n",
    "    [1, 'Concepción'],\n",
    "    [7, 'Mantenimiento'],\n",
    "    [4, 'Producción'],\n",
    "    [3, 'Planificación'],\n",
    "    [5, 'Pruebas']\n",
    "]\n",
    "\n",
    "print(\"==Tareas desordenadas==\")\n",
    "for tarea in tareas:\n",
    "    print(tarea[0], tarea[1])\n",
    "\n",
    "# Completa el ejercicio aquí"
   ]
  },
  {
   "cell_type": "code",
   "execution_count": 174,
   "metadata": {},
   "outputs": [
    {
     "name": "stdout",
     "output_type": "stream",
     "text": [
      "[[1, 'Concepción'], [2, 'Diseño'], [3, 'Planificación'], [4, 'Producción'], [5, 'Pruebas'], [6, 'Distribución'], [7, 'Mantenimiento']]\n"
     ]
    }
   ],
   "source": [
    "x = sorted(tareas)\n",
    "print(x)"
   ]
  },
  {
   "cell_type": "code",
   "execution_count": 179,
   "metadata": {},
   "outputs": [],
   "source": [
    "y=[]\n",
    "for i,v in enumerate(x):\n",
    "    y.append(x[i][1])\n",
    "    ##thislist.append(\"orange\")"
   ]
  },
  {
   "cell_type": "code",
   "execution_count": 180,
   "metadata": {},
   "outputs": [
    {
     "name": "stdout",
     "output_type": "stream",
     "text": [
      "['Concepción', 'Diseño', 'Planificación', 'Producción', 'Pruebas', 'Distribución', 'Mantenimiento']\n"
     ]
    }
   ],
   "source": [
    "print(y)"
   ]
  },
  {
   "cell_type": "code",
   "execution_count": 181,
   "metadata": {},
   "outputs": [],
   "source": [
    "# Completa el ejercicio aquí\n",
    "from collections import deque\n",
    "cola2= deque(y)"
   ]
  },
  {
   "cell_type": "code",
   "execution_count": 182,
   "metadata": {},
   "outputs": [
    {
     "name": "stdout",
     "output_type": "stream",
     "text": [
      "deque(['Concepción', 'Diseño', 'Planificación', 'Producción', 'Pruebas', 'Distribución', 'Mantenimiento'])\n"
     ]
    }
   ],
   "source": [
    "print(cola2)"
   ]
  },
  {
   "cell_type": "code",
   "execution_count": 177,
   "metadata": {},
   "outputs": [
    {
     "name": "stdout",
     "output_type": "stream",
     "text": [
      "\n",
      "==Tareas ordenadas==\n",
      "Concepción\n",
      "Diseño\n",
      "Planificación\n",
      "Producción\n",
      "Pruebas\n",
      "Distribución\n",
      "Mantenimiento\n"
     ]
    }
   ],
   "source": [
    "# Completa el ejercicio aquí\n",
    "from collections import deque\n",
    "\n",
    "tareas.sort()\n",
    "\n",
    "cola = deque()\n",
    "for tarea in tareas:\n",
    "    cola.append(tarea[1])\n",
    "\n",
    "print(\"\\n==Tareas ordenadas==\")\n",
    "for tarea in cola:\n",
    "    print(tarea)"
   ]
  },
  {
   "cell_type": "code",
   "execution_count": null,
   "metadata": {},
   "outputs": [],
   "source": []
  }
 ],
 "metadata": {
  "kernelspec": {
   "display_name": "Python 3",
   "language": "python",
   "name": "python3"
  },
  "language_info": {
   "codemirror_mode": {
    "name": "ipython",
    "version": 3
   },
   "file_extension": ".py",
   "mimetype": "text/x-python",
   "name": "python",
   "nbconvert_exporter": "python",
   "pygments_lexer": "ipython3",
   "version": "3.8.5"
  }
 },
 "nbformat": 4,
 "nbformat_minor": 4
}
