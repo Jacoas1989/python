{
 "cells": [
  {
   "cell_type": "markdown",
   "metadata": {},
   "source": [
    "# Ejercicio 1\n",
    "\n",
    "Localiza el error en el siguiente bloque de código. Crea una excepción para evitar que el programa se bloquee y además explica en un mensaje al usuario la causa y/o solución:\n",
    "\n",
    "* resultado = 10/0"
   ]
  },
  {
   "cell_type": "code",
   "execution_count": null,
   "metadata": {},
   "outputs": [],
   "source": [
    "while True:\n",
    "    try:\n",
    "        denominador= float(input(\"introduce un denominador: \"))\n",
    "        resultado = 10/denominador\n",
    "        print(resultado)\n",
    "        break\n",
    "    except ValueError:\n",
    "        print(\"No se puede dividir por un string\")\n",
    "    except ZeroDivisionError:\n",
    "        print(\"No se puede dividir por 0\")\n",
    "        denominador = float(input(\"introduce un denominador que no sea un 0: \")) \n",
    "    except Exception as e:  # guardamos la excepción como una variable e\n",
    "        print(\"Ha ocurrido un error =>\", type(e).__name__)\n",
    "        break"
   ]
  },
  {
   "cell_type": "markdown",
   "metadata": {},
   "source": [
    "# Ejercicio 2\n",
    "\n",
    "Localiza el error en el siguiente bloque de código. Crea una excepción para evitar que el programa se bloquee y además explica en un mensaje al usuario la causa y/o solución:\n",
    "\n",
    "* lista = [1, 2, 3, 4, 5]\n",
    "* lista[10]"
   ]
  },
  {
   "cell_type": "code",
   "execution_count": null,
   "metadata": {},
   "outputs": [],
   "source": [
    "lista = [1, 2, 3, 4, 5]\n",
    "while True:\n",
    "    try:\n",
    "        i=int((input(\"Introduce un numero para actuar de indice y mostar el numero correspondiente en la lista:\")))\n",
    "        print(\"el numero de la lista es el:\",lista[i])\n",
    "        break\n",
    "    except IndexError:\n",
    "        print(\"Error: introduce un numero igual o mayor que 0 y menor que :\",len(lista))\n",
    "        \n",
    "    except Exception as e:\n",
    "        print(\"Ha ocurrido un error =>\", type(e).__name__)\n",
    "        break\n",
    "    "
   ]
  },
  {
   "cell_type": "markdown",
   "metadata": {},
   "source": [
    "# Ejercicio 3\n",
    "\n",
    "Localiza el error en el siguiente bloque de código. Crea una excepción para evitar que el programa se bloquee y además explica en un mensaje al usuario la causa y/o solución:\n",
    "\n",
    "* colores = { 'rojo':'red', 'verde':'green', 'negro':'black' } \n",
    "* colores['blanco']"
   ]
  },
  {
   "cell_type": "code",
   "execution_count": null,
   "metadata": {},
   "outputs": [],
   "source": [
    "colores = { 'rojo':'red', 'verde':'green', 'negro':'black' }\n",
    "try:\n",
    "    colores['blanco']\n",
    "except:\n",
    "    print(\"'Blanco' es un valor y no una clave\")"
   ]
  },
  {
   "cell_type": "markdown",
   "metadata": {},
   "source": [
    "# Ejercicio 4\n",
    "\n",
    "Localiza el error en el siguiente bloque de código. Crea una excepción para evitar que el programa se bloquee y además explica en un mensaje al usuario la causa y/o solución:\n",
    "\n",
    "* resultado = 15 + \"20\""
   ]
  },
  {
   "cell_type": "code",
   "execution_count": 1,
   "metadata": {},
   "outputs": [
    {
     "name": "stdout",
     "output_type": "stream",
     "text": [
      "Error: no se puede sumar un string y un numero\n"
     ]
    }
   ],
   "source": [
    "try:\n",
    "    resultado = 15 + \"20\"\n",
    "except:\n",
    "    print(\"Error: no se puede sumar un string y un numero\")"
   ]
  },
  {
   "cell_type": "markdown",
   "metadata": {},
   "source": [
    "# Ejercicio 5\n",
    "\n",
    "Realiza una función llamada agregar_una_vez(lista, el) que reciba una lista y un elemento. \n",
    "* La función debe añadir el elemento al final de la lista con la condición de no repetir ningún elemento. \n",
    "* Además si este elemento ya se encuentra en la lista se debe invocar un error de tipo ValueError que debes capturar y mostrar este mensaje en su lugar:Error: Imposible añadir elementos duplicados => [elemento].\n",
    "\n",
    "Cuando tengas la función intenta añadir los siguiente valores a la lista 10, -2, \"Hola\" y luego muestra su contenido.\n",
    "\n",
    "* Sugerencia: Puedes utilizar la sintaxis \"elemento in lista\"\n",
    "\n",
    "* elementos = [1, 5, -2]\n"
   ]
  },
  {
   "cell_type": "code",
   "execution_count": 10,
   "metadata": {},
   "outputs": [
    {
     "ename": "TypeError",
     "evalue": "'builtin_function_or_method' object is not subscriptable",
     "output_type": "error",
     "traceback": [
      "\u001b[1;31m---------------------------------------------------------------------------\u001b[0m",
      "\u001b[1;31mTypeError\u001b[0m                                 Traceback (most recent call last)",
      "\u001b[1;32m<ipython-input-10-9c9daedea31e>\u001b[0m in \u001b[0;36m<module>\u001b[1;34m\u001b[0m\n\u001b[0;32m      6\u001b[0m         \u001b[1;32mreturn\u001b[0m \u001b[1;34m\"Error: Imposible añadir elementos duplicados =>\"\u001b[0m\u001b[1;33m\u001b[0m\u001b[1;33m\u001b[0m\u001b[0m\n\u001b[0;32m      7\u001b[0m \u001b[1;33m\u001b[0m\u001b[0m\n\u001b[1;32m----> 8\u001b[1;33m \u001b[0mprint\u001b[0m\u001b[1;33m(\u001b[0m\u001b[0magregar_una_vez\u001b[0m\u001b[1;33m(\u001b[0m\u001b[1;36m5\u001b[0m\u001b[1;33m,\u001b[0m\u001b[1;36m10\u001b[0m\u001b[1;33m)\u001b[0m\u001b[1;33m)\u001b[0m\u001b[1;33m\u001b[0m\u001b[1;33m\u001b[0m\u001b[0m\n\u001b[0m",
      "\u001b[1;32m<ipython-input-10-9c9daedea31e>\u001b[0m in \u001b[0;36magregar_una_vez\u001b[1;34m(lista, el)\u001b[0m\n\u001b[0;32m      2\u001b[0m     \u001b[0mlista\u001b[0m\u001b[1;33m=\u001b[0m\u001b[1;33m[\u001b[0m\u001b[1;36m1\u001b[0m\u001b[1;33m,\u001b[0m \u001b[1;36m5\u001b[0m\u001b[1;33m,\u001b[0m \u001b[1;33m-\u001b[0m\u001b[1;36m2\u001b[0m\u001b[1;33m]\u001b[0m\u001b[1;33m\u001b[0m\u001b[1;33m\u001b[0m\u001b[0m\n\u001b[0;32m      3\u001b[0m     \u001b[1;32mif\u001b[0m \u001b[0mel\u001b[0m \u001b[1;32mnot\u001b[0m \u001b[1;32min\u001b[0m \u001b[0mlista\u001b[0m\u001b[1;33m:\u001b[0m\u001b[1;33m\u001b[0m\u001b[1;33m\u001b[0m\u001b[0m\n\u001b[1;32m----> 4\u001b[1;33m         \u001b[1;32mreturn\u001b[0m \u001b[0mlista\u001b[0m\u001b[1;33m.\u001b[0m\u001b[0mappend\u001b[0m\u001b[1;33m[\u001b[0m\u001b[0mel\u001b[0m\u001b[1;33m]\u001b[0m\u001b[1;33m\u001b[0m\u001b[1;33m\u001b[0m\u001b[0m\n\u001b[0m\u001b[0;32m      5\u001b[0m     \u001b[1;32melse\u001b[0m\u001b[1;33m:\u001b[0m\u001b[1;33m\u001b[0m\u001b[1;33m\u001b[0m\u001b[0m\n\u001b[0;32m      6\u001b[0m         \u001b[1;32mreturn\u001b[0m \u001b[1;34m\"Error: Imposible añadir elementos duplicados =>\"\u001b[0m\u001b[1;33m\u001b[0m\u001b[1;33m\u001b[0m\u001b[0m\n",
      "\u001b[1;31mTypeError\u001b[0m: 'builtin_function_or_method' object is not subscriptable"
     ]
    }
   ],
   "source": [
    "def agregar_una_vez(lista, el):\n",
    "    lista=[1, 5, -2]\n",
    "    if el not in lista:\n",
    "        return lista.append[el]\n",
    "    else:\n",
    "        return \"Error: Imposible añadir elementos duplicados =>\"\n",
    "\n",
    "print(agregar_una_vez(5,10))"
   ]
  },
  {
   "cell_type": "code",
   "execution_count": null,
   "metadata": {},
   "outputs": [],
   "source": [
    "def separar_lista(lista):\n",
    "    pares = []\n",
    "    impares = []\n",
    "    for i,n in enumerate(lista):\n",
    "        if n%2 == 0:\n",
    "            pares.append(n)\n",
    "            pares.sort()\n",
    "        else:\n",
    "            impares.append(n)\n",
    "            impares.sort()\n",
    "    return pares, impares\n",
    "l=[6,5,2,1,7]   \n",
    "p,i = separar_lista(l)\n",
    "print(p)\n",
    "print(i)"
   ]
  }
 ],
 "metadata": {
  "kernelspec": {
   "display_name": "Python 3",
   "language": "python",
   "name": "python3"
  },
  "language_info": {
   "codemirror_mode": {
    "name": "ipython",
    "version": 3
   },
   "file_extension": ".py",
   "mimetype": "text/x-python",
   "name": "python",
   "nbconvert_exporter": "python",
   "pygments_lexer": "ipython3",
   "version": "3.8.5"
  }
 },
 "nbformat": 4,
 "nbformat_minor": 4
}
