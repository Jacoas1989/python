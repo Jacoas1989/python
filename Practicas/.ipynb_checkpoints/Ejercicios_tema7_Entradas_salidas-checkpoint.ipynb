{
 "cells": [
  {
   "cell_type": "markdown",
   "metadata": {},
   "source": [
    "# Ejercicio 1\n",
    "\n",
    "Formatea los siguientes valores para mostrar el resultado indicado:\n",
    "\n",
    "* \"Hola Mundo\" → Alineado a la derecha en 20 caracteres\n",
    "* \"Hola Mundo\" → Truncamiento en el cuarto carácter (índice 3)\n",
    "* \"Hola Mundo\" → Alineamiento al centro en 20 caracteres con truncamiento en el segundo carácter (índice 1)\n",
    "* 150 → Formateo a 5 números enteros rellenados con ceros\n",
    "* 7887 → Formateo a 7 números enteros rellenados con espacios\n",
    "* 20.02 → Formateo a 3 números enteros y 3 números decimales"
   ]
  },
  {
   "cell_type": "code",
   "execution_count": 28,
   "metadata": {},
   "outputs": [
    {
     "name": "stdout",
     "output_type": "stream",
     "text": [
      "          Hola Mundo\n"
     ]
    }
   ],
   "source": [
    " print( \"{:>20}\".format(\"Hola Mundo\") ) "
   ]
  },
  {
   "cell_type": "code",
   "execution_count": 25,
   "metadata": {},
   "outputs": [
    {
     "name": "stdout",
     "output_type": "stream",
     "text": [
      "Hol\n"
     ]
    }
   ],
   "source": [
    " print( \"{:.3}\".format(\"Hola Mundo\") ) "
   ]
  },
  {
   "cell_type": "code",
   "execution_count": 27,
   "metadata": {},
   "outputs": [
    {
     "name": "stdout",
     "output_type": "stream",
     "text": [
      "         H          \n"
     ]
    }
   ],
   "source": [
    " print( \"{:^20.1}\".format(\"Hola Mundo\") ) "
   ]
  },
  {
   "cell_type": "code",
   "execution_count": 21,
   "metadata": {},
   "outputs": [
    {
     "name": "stdout",
     "output_type": "stream",
     "text": [
      "00150\n"
     ]
    }
   ],
   "source": [
    " print( \"{:05d}\".format(150) ) "
   ]
  },
  {
   "cell_type": "code",
   "execution_count": 22,
   "metadata": {},
   "outputs": [
    {
     "name": "stdout",
     "output_type": "stream",
     "text": [
      "   7887\n"
     ]
    }
   ],
   "source": [
    " print( \"{:7d}\".format(7887) ) "
   ]
  },
  {
   "cell_type": "code",
   "execution_count": 23,
   "metadata": {},
   "outputs": [
    {
     "name": "stdout",
     "output_type": "stream",
     "text": [
      " 20.020\n"
     ]
    }
   ],
   "source": [
    " print( \"{:7.3f}\".format(20.02) ) "
   ]
  },
  {
   "cell_type": "code",
   "execution_count": 24,
   "metadata": {},
   "outputs": [
    {
     "name": "stdout",
     "output_type": "stream",
     "text": [
      "          Hola Mundo\n",
      "Hol\n",
      "         Ho         \n",
      "00150\n",
      "   7887\n",
      "020.020\n"
     ]
    }
   ],
   "source": [
    "print( \"{:>20}\".format(\"Hola Mundo\") )\n",
    "print( \"{:.3}\".format(\"Hola Mundo\") )\n",
    "print( \"{:^20.2}\".format(\"Hola Mundo\") )\n",
    "print( \"{:05d}\".format(150) )\n",
    "print( \"{:7d}\".format(7887) )\n",
    "print( \"{:07.3f}\".format(20.02) )"
   ]
  }
 ],
 "metadata": {
  "kernelspec": {
   "display_name": "Python 3",
   "language": "python",
   "name": "python3"
  },
  "language_info": {
   "codemirror_mode": {
    "name": "ipython",
    "version": 3
   },
   "file_extension": ".py",
   "mimetype": "text/x-python",
   "name": "python",
   "nbconvert_exporter": "python",
   "pygments_lexer": "ipython3",
   "version": "3.8.5"
  }
 },
 "nbformat": 4,
 "nbformat_minor": 4
}
