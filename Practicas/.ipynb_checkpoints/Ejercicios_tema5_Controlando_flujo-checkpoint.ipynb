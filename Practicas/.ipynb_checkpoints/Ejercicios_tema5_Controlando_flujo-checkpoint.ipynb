{
 "cells": [
  {
   "cell_type": "markdown",
   "metadata": {},
   "source": [
    "# Ejercicios tema 5: Controlando el flujo "
   ]
  },
  {
   "cell_type": "markdown",
   "metadata": {},
   "source": [
    "## Ejercicio 1\n",
    "\n",
    "Realiza un programa que lea dos números por teclado y permita elegir entre 3 opciones en un menú:\n",
    "\n",
    "* Mostrar una suma de los dos números\n",
    "\n",
    "* Mostrar una resta de los dos números (el primero menos el segundo)\n",
    "\n",
    "* Mostrar una multiplicación de los dos números\n",
    "\n",
    "En caso de introducir una opción inválida, el programa informará de que no es correcta."
   ]
  },
  {
   "cell_type": "code",
   "execution_count": null,
   "metadata": {},
   "outputs": [],
   "source": [
    "n1 = int( input(\"Inserte un numero entero: \"))\n",
    "n2 = int (input(\"Inserte un segundo numero entero: \"))\n",
    "\n",
    "a = print (\"Qué quieres hacer con estos numeros?\\n 1 Mostrar una suma de los dos números \\n 2 Mostrar una resta de los dos números (el primero menos el segundo)\\n 3 Mostrar una multiplicación de los dos números\")\n",
    "r = input (\"Introduzca la opción elegida: \")\n",
    "\n",
    "if r == \"1\":\n",
    "    print(\"La suma de ambos numeros es: \",n1+n2),\n",
    "elif r == \"2\":\n",
    "    print(\"La resta del primero menos el segundo es: \",n1-n2)\n",
    "elif r == \"3\":\n",
    "    print(\"El resultado de la multiplicación de ambos numeros es: \",n1*n2)\n",
    "else:\n",
    "    print(\"Valor introducido no reconocido, vuelva a intentarlo\")"
   ]
  },
  {
   "cell_type": "markdown",
   "metadata": {},
   "source": [
    "## Ejercicio 2\n",
    "Realiza un programa que lea un número impar por teclado. Si el usuario no introduce un número impar, debe repetise el proceso hasta que lo introduzca correctamente."
   ]
  },
  {
   "cell_type": "code",
   "execution_count": null,
   "metadata": {},
   "outputs": [],
   "source": [
    "n1 = int(input(\"Introduce un numero impar: \"))\n",
    "while n1%2 == 0:\n",
    "    print(\"Error, el numero\", n1,\" introducido no es impar.\")\n",
    "    n1 = int(input(\"Introduce un numero impar: \"))\n",
    "else:\n",
    "    print(\"Numero impar introducido correctamente: \",n1)\n",
    "    "
   ]
  },
  {
   "cell_type": "code",
   "execution_count": null,
   "metadata": {},
   "outputs": [],
   "source": [
    "while True:\n",
    "    n = int(input(\"Introduce un número impar: \"))\n",
    "    if n%2 == 0:\n",
    "        print(\"Error, el número\", n, \"no es impar.\")\n",
    "    else:\n",
    "        print(\"Número impar introducido correctamente\")\n",
    "        break"
   ]
  },
  {
   "cell_type": "code",
   "execution_count": null,
   "metadata": {},
   "outputs": [],
   "source": [
    "#resultado del profe\n",
    "numero = 0\n",
    "while numero % 2 == 0:  # Mientras sea par repetimos el proceso\n",
    "    numero = int(input(\"Introduce un número impar: \") )"
   ]
  },
  {
   "cell_type": "markdown",
   "metadata": {},
   "source": [
    "## Ejercicio 3\n",
    "Realiza un programa que sume todos los números enteros pares desde el 0 hasta el 100.\n",
    "\n",
    "Consejo:\n",
    "Puedes utilizar la funciones sum() y range() para hacerlo más fácil.\n",
    "El tercer parámetro en la función range(inicio, fin, salto) indica un salto de números, pruébalo."
   ]
  },
  {
   "cell_type": "code",
   "execution_count": null,
   "metadata": {},
   "outputs": [],
   "source": [
    "range(10)"
   ]
  },
  {
   "cell_type": "code",
   "execution_count": null,
   "metadata": {},
   "outputs": [],
   "source": [
    "list(range(10))"
   ]
  },
  {
   "cell_type": "code",
   "execution_count": null,
   "metadata": {},
   "outputs": [],
   "source": [
    "list(range(1,5))"
   ]
  },
  {
   "cell_type": "code",
   "execution_count": 9,
   "metadata": {},
   "outputs": [
    {
     "data": {
      "text/plain": [
       "2550"
      ]
     },
     "execution_count": 9,
     "metadata": {},
     "output_type": "execute_result"
    }
   ],
   "source": [
    "sum(range(0,101,2))"
   ]
  },
  {
   "cell_type": "code",
   "execution_count": 6,
   "metadata": {},
   "outputs": [
    {
     "name": "stdout",
     "output_type": "stream",
     "text": [
      "2550\n"
     ]
    }
   ],
   "source": [
    "# Primera forma con función sum()\n",
    "suma = sum( range(0, 101, 2) )\n",
    "print(suma)"
   ]
  },
  {
   "cell_type": "code",
   "execution_count": 7,
   "metadata": {},
   "outputs": [
    {
     "name": "stdout",
     "output_type": "stream",
     "text": [
      "2550\n"
     ]
    }
   ],
   "source": [
    "# Segunda forma con bucles\n",
    "num = 0\n",
    "suma = 0\n",
    "\n",
    "while num <= 100:\n",
    "    if num % 2 == 0:\n",
    "        suma += num\n",
    "    num += 1\n",
    "\n",
    "print(suma)"
   ]
  },
  {
   "cell_type": "markdown",
   "metadata": {},
   "source": [
    "## Ejercicio 4\n",
    "Realiza un programa que pida al usuario cuantos números quiere introducir. Luego lee todos los números y realiza una media aritmética."
   ]
  },
  {
   "cell_type": "code",
   "execution_count": 28,
   "metadata": {},
   "outputs": [
    {
     "name": "stdout",
     "output_type": "stream",
     "text": [
      "Cuantos numeros quieres introducir? 4\n"
     ]
    },
    {
     "data": {
      "text/plain": [
       "5.0"
      ]
     },
     "execution_count": 28,
     "metadata": {},
     "output_type": "execute_result"
    }
   ],
   "source": [
    "n=int(input(\"Cuantos numeros quieres introducir? \"))\n",
    "sum(list(range(n+1)))/2\n",
    "\n"
   ]
  },
  {
   "cell_type": "code",
   "execution_count": 29,
   "metadata": {},
   "outputs": [
    {
     "name": "stdout",
     "output_type": "stream",
     "text": [
      "¿Cuántos números quieres introducir? 5\n",
      "Introduce un número: 3\n",
      "Introduce un número: 4\n",
      "Introduce un número: 5\n",
      "Introduce un número: 6\n",
      "Introduce un número: 6\n",
      "Se han introducido 5 números que en total han sumado 24.0 y la media es 4.8\n"
     ]
    }
   ],
   "source": [
    "#resultado del profe\n",
    "suma = 0\n",
    "numeros = int(input(\"¿Cuántos números quieres introducir? \") )\n",
    "for x in range(numeros):\n",
    "    suma += float(input(\"Introduce un número: \") )\n",
    "print(\"Se han introducido\", numeros, \"números que en total han sumado\", \n",
    "        suma, \"y la media es\", suma/numeros)"
   ]
  },
  {
   "cell_type": "markdown",
   "metadata": {},
   "source": [
    "## Ejercicio 5\n",
    "Realiza un programa que pida al usuario un número entero del 0 al 9, y que mientras el número no sea correcto se repita el proceso. Luego debe comprobar si el número se encuentra en la lista de números y notificarlo:\n",
    "\n",
    "Consejo:La sintaxis [valor] in [lista] permite comprobar si un valor se encuentra en una lista (devuelve True o False)."
   ]
  },
  {
   "cell_type": "code",
   "execution_count": 30,
   "metadata": {},
   "outputs": [
    {
     "name": "stdout",
     "output_type": "stream",
     "text": [
      "Introduce un numero entero del 0 al 9: 89\n",
      "Error, introduce un numero entero del 0 al 9: \n",
      "Introduce un numero entero del 0 al 9: 9\n",
      "Ha indtroducido correctamente el numero:  9\n"
     ]
    }
   ],
   "source": [
    "n1=int(input(\"Introduce un numero entero del 0 al 9: \"))\n",
    "n2= list(range(10))\n",
    "while True:\n",
    "    if n1>len(n2):\n",
    "        print(\"Error, introduce un numero entero del 0 al 9: \")\n",
    "        n1=int(input(\"Introduce un numero entero del 0 al 9: \"))\n",
    "    else:\n",
    "        print(\"Ha indtroducido correctamente el numero: \",n1)\n",
    "        break"
   ]
  },
  {
   "cell_type": "code",
   "execution_count": 31,
   "metadata": {},
   "outputs": [
    {
     "name": "stdout",
     "output_type": "stream",
     "text": [
      "Escribe un número del 0 al 9: 45\n",
      "Escribe un número del 0 al 9: 3\n",
      "El número 3 se encuentra en la lista [1, 3, 6, 9]\n"
     ]
    }
   ],
   "source": [
    "#resultado del profe\n",
    "numeros = [1, 3, 6, 9]\n",
    "\n",
    "# Completa el ejercicio aquí\n",
    "while True:\n",
    "    numero = int(input(\"Escribe un número del 0 al 9: \"))\n",
    "    if numero >= 0 and numero <= 9:\n",
    "        break\n",
    "if numero in numeros:\n",
    "    print(\"El número\", numero, \"se encuentra en la lista\", numeros)\n",
    "else:\n",
    "    print(\"El número\", numero, \"no se encuentra en la lista\", numeros)\n",
    "\n"
   ]
  },
  {
   "cell_type": "markdown",
   "metadata": {},
   "source": [
    "# Ejercicio 6\n",
    "Utilizando la función range() y la conversión a listas genera las siguientes listas dinámicamente:\n",
    "\n",
    "* Todos los números del 0 al 10 [0, 1, 2, ..., 10]\n",
    "* Todos los números del -10 al 0 [-10, -9, -8, ..., 0]\n",
    "* Todos los números pares del 0 al 20 [0, 2, 4, ..., 20]\n",
    "* Todos los números impares entre -20 y 0 [-19, -17, -15, ..., -1]\n",
    "* Todos los números múltiples de 5 del 0 al 50 [0, 5, 10, ..., 50]\n",
    "\n",
    "Consejo:Se pueden generar saltos en el range() estableciendo su tercer parámetro range(inicio, fin, salto), experimenta."
   ]
  },
  {
   "cell_type": "code",
   "execution_count": 22,
   "metadata": {},
   "outputs": [
    {
     "data": {
      "text/plain": [
       "[0, 1, 2, 3, 4, 5, 6, 7, 8, 9, 10]"
      ]
     },
     "execution_count": 22,
     "metadata": {},
     "output_type": "execute_result"
    }
   ],
   "source": [
    "list(range(11))"
   ]
  },
  {
   "cell_type": "code",
   "execution_count": 27,
   "metadata": {},
   "outputs": [
    {
     "data": {
      "text/plain": [
       "[-10, -9, -8, -7, -6, -5, -4, -3, -2, -1, 0]"
      ]
     },
     "execution_count": 27,
     "metadata": {},
     "output_type": "execute_result"
    }
   ],
   "source": [
    "list(range(-10,1))"
   ]
  },
  {
   "cell_type": "code",
   "execution_count": 24,
   "metadata": {},
   "outputs": [
    {
     "data": {
      "text/plain": [
       "[0, 2, 4, 6, 8, 10, 12, 14, 16, 18, 20]"
      ]
     },
     "execution_count": 24,
     "metadata": {},
     "output_type": "execute_result"
    }
   ],
   "source": [
    "list(range(0,21,2))"
   ]
  },
  {
   "cell_type": "code",
   "execution_count": 25,
   "metadata": {},
   "outputs": [
    {
     "data": {
      "text/plain": [
       "[-20,\n",
       " -19,\n",
       " -18,\n",
       " -17,\n",
       " -16,\n",
       " -15,\n",
       " -14,\n",
       " -13,\n",
       " -12,\n",
       " -11,\n",
       " -10,\n",
       " -9,\n",
       " -8,\n",
       " -7,\n",
       " -6,\n",
       " -5,\n",
       " -4,\n",
       " -3,\n",
       " -2,\n",
       " -1]"
      ]
     },
     "execution_count": 25,
     "metadata": {},
     "output_type": "execute_result"
    }
   ],
   "source": [
    "list(range(-20,0,1))"
   ]
  },
  {
   "cell_type": "code",
   "execution_count": 26,
   "metadata": {},
   "outputs": [
    {
     "data": {
      "text/plain": [
       "[0, 5, 10, 15, 20, 25, 30, 35, 40, 45, 50]"
      ]
     },
     "execution_count": 26,
     "metadata": {},
     "output_type": "execute_result"
    }
   ],
   "source": [
    "list(range(0,51,5))"
   ]
  },
  {
   "cell_type": "markdown",
   "metadata": {},
   "source": [
    "## Ejercicio7 \n",
    "Dadas dos listas, debes generar una tercera con todos los elementos que se repitan en ellas, pero no debe repetirse ningún elemento en la nueva lista:"
   ]
  },
  {
   "cell_type": "code",
   "execution_count": 33,
   "metadata": {},
   "outputs": [
    {
     "data": {
      "text/plain": [
       "['h', 'o', 'l', 'a', ' ', 'u', 'n']"
      ]
     },
     "execution_count": 33,
     "metadata": {},
     "output_type": "execute_result"
    }
   ],
   "source": [
    "lista_1 = [\"h\",'o','l','a',' ', 'm','u','n','d','o']\n",
    "lista_2 = [\"h\",'o','l','a',' ', 'l','u','n','a']\n",
    "\n",
    "# resultado: [\"h\",'o','l','a',' ', 'u', 'n']\n",
    "# Completa el ejercicio aquí\n",
    "\n",
    "res = []\n",
    "for i,n in enumerate(lista_2):\n",
    "    if lista_1[i] == n:\n",
    "        res += n\n",
    "res\n",
    "        \n"
   ]
  },
  {
   "cell_type": "code",
   "execution_count": 34,
   "metadata": {},
   "outputs": [
    {
     "name": "stdout",
     "output_type": "stream",
     "text": [
      "['h', 'o', 'l', 'a', ' ', 'u', 'n']\n"
     ]
    }
   ],
   "source": [
    "# solución del profesor\n",
    "\n",
    "lista_3 = []\n",
    "for letra in lista_1:\n",
    "    if letra in lista_2 and letra not in lista_3:\n",
    "        lista_3.append(letra)\n",
    "\n",
    "print(lista_3)"
   ]
  },
  {
   "cell_type": "code",
   "execution_count": 37,
   "metadata": {},
   "outputs": [
    {
     "data": {
      "text/plain": [
       "True"
      ]
     },
     "execution_count": 37,
     "metadata": {},
     "output_type": "execute_result"
    }
   ],
   "source": [
    "\"z\" not in [\"a\", \"h\", \"o\"]"
   ]
  }
 ],
 "metadata": {
  "kernelspec": {
   "display_name": "Python 3",
   "language": "python",
   "name": "python3"
  },
  "language_info": {
   "codemirror_mode": {
    "name": "ipython",
    "version": 3
   },
   "file_extension": ".py",
   "mimetype": "text/x-python",
   "name": "python",
   "nbconvert_exporter": "python",
   "pygments_lexer": "ipython3",
   "version": "3.8.5"
  }
 },
 "nbformat": 4,
 "nbformat_minor": 4
}
