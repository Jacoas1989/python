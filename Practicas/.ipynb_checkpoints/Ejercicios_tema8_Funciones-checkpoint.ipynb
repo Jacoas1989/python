{
 "cells": [
  {
   "cell_type": "markdown",
   "metadata": {},
   "source": [
    "# Ejercicio 1 \n",
    "\n",
    "Realiza una función llamada area_rectangulo(base, altura) que devuelva el área del rectangulo a partir de una base y una altura. Calcula el área de un rectángulo de 15 de base y 10 de altura:\n",
    "\n",
    "Recordatorio: El área de un rectángulo se obtiene al multiplicar la base por la altura."
   ]
  },
  {
   "cell_type": "code",
   "execution_count": null,
   "metadata": {},
   "outputs": [],
   "source": [
    "def area_rectangulo(base,altura):\n",
    "    return(base* altura)\n",
    "    \n",
    "print(area_rectangulo(15,10))\n",
    "\n",
    "    "
   ]
  },
  {
   "cell_type": "markdown",
   "metadata": {},
   "source": [
    "# Ejercicio 2\n",
    "\n",
    "Realiza una función llamada area_circulo(radio) que devuelva el área de un círculo a partir de un radio. Calcula el área de un círculo de 5 de radio:\n",
    "\n",
    "Recordatorio: El área de un círculo se obtiene al elevar el radio a dos y multiplicando el resultado por el número pi. Puedes utilizar el valor 3.14159 como pi o importarlo del módulo math:\n",
    "\n",
    "* import math\n",
    "\n",
    "* print(math.pi)"
   ]
  },
  {
   "cell_type": "code",
   "execution_count": null,
   "metadata": {},
   "outputs": [],
   "source": [
    "import math\n",
    "print(math.pi)\n",
    "\n",
    "def area_circulo(radio):\n",
    "    return pow(radio,2) * math.pi #se puede usar pow(variable,potencia) o bien variable**potencia\n",
    "\n",
    "print(area_circulo(5))"
   ]
  },
  {
   "cell_type": "markdown",
   "metadata": {},
   "source": [
    "# Ejercicio 3\n",
    "\n",
    "Realiza una función llamada relacion(a, b) que a partir de dos números cumpla lo siguiente:\n",
    "\n",
    "* Si el primer número es mayor que el segundo, debe devolver 1.\n",
    "* Si el primer número es menor que el segundo, debe devolver -1.\n",
    "* Si ambos números son iguales, debe devolver un 0.\n",
    "* Comprueba la relación entre los números: '5 y 10', '10 y 5' y '5 y 5'."
   ]
  },
  {
   "cell_type": "code",
   "execution_count": null,
   "metadata": {},
   "outputs": [],
   "source": [
    "def relaciona(a,b):\n",
    "    if a > b:\n",
    "        return 1\n",
    "    elif a < b:\n",
    "        return -1\n",
    "    elif a == b:\n",
    "        return 0\n",
    "    \n",
    "print(relaciona(5,10))\n",
    "print(relaciona(10,5))\n",
    "print(relaciona(5,5))"
   ]
  },
  {
   "cell_type": "markdown",
   "metadata": {},
   "source": [
    "# Ejercicio 4 \n",
    "\n",
    "Realiza una función llamada intermedio(a, b) que a partir de dos números, devuelva su punto intermedio. Cuando lo tengas comprueba el punto intermedio entre -12 y 24:\n",
    "\n",
    "Recordatorio: El número intermedio de dos números corresponde a la suma de los dos números dividida entre 2"
   ]
  },
  {
   "cell_type": "code",
   "execution_count": null,
   "metadata": {},
   "outputs": [],
   "source": [
    "def intermedio(a,b):\n",
    "    return (a + b)/2\n",
    "\n",
    "print(intermedio(-12,24))"
   ]
  },
  {
   "cell_type": "markdown",
   "metadata": {},
   "source": [
    "# Ejercicio 5\n",
    "\n",
    "Realiza una función llamada recortar(numero, minimo, maximo) que reciba tres parámetros. El primero es el número a recortar, el segundo es el límite inferior y el tercero el límite superior. La función tendrá que cumplir lo siguiente:\n",
    "\n",
    "* Devolver el límite inferior si el número es menor que éste\n",
    "* Devolver el límite superior si el número es mayor que éste.\n",
    "* Devolver el número sin cambios si no se supera ningún límite.\n",
    "* Comprueba el resultado de recortar 15 entre los límites 0 y 10."
   ]
  },
  {
   "cell_type": "code",
   "execution_count": null,
   "metadata": {},
   "outputs": [],
   "source": [
    "def  recortar(numero, minimo, maximo):\n",
    "    if numero < minimo:\n",
    "        return minimo\n",
    "    elif numero > maximo:\n",
    "        return maximo\n",
    "    return numero # no hace falta poner el else, con el return a secas vale\n",
    "    \n",
    "print (recortar(15,0,10))"
   ]
  },
  {
   "cell_type": "markdown",
   "metadata": {},
   "source": [
    "# Ejercicio 6\n",
    "\n",
    "Realiza una función separar(lista) que tome una lista de números enteros y devuelva dos listas ordenadas. La primera con los números pares y la segunda con los números impares.\n",
    "\n",
    "Por ejemplo:\n",
    "\n",
    "* pares, impares = separar([6,5,2,1,7])\n",
    "* print(pares)\n",
    "* print(impares)\n",
    "\n",
    "Sugerencia: Para ordenar una lista automáticamente puedes utilizar el método .sort()."
   ]
  },
  {
   "cell_type": "code",
   "execution_count": 53,
   "metadata": {},
   "outputs": [
    {
     "name": "stdout",
     "output_type": "stream",
     "text": [
      "[2, 6]\n",
      "[1, 5, 7]\n"
     ]
    }
   ],
   "source": [
    "def separar_lista(lista):\n",
    "    pares = []\n",
    "    impares = []\n",
    "    for i,n in enumerate(lista):\n",
    "        if n%2 == 0:\n",
    "            pares.append(n)\n",
    "            pares.sort()\n",
    "        else:\n",
    "            impares.append(n)\n",
    "            impares.sort()\n",
    "    return pares, impares\n",
    "l=[6,5,2,1,7]   \n",
    "p,i = separar_lista(l)\n",
    "print(p)\n",
    "print(i)"
   ]
  },
  {
   "cell_type": "code",
   "execution_count": 44,
   "metadata": {},
   "outputs": [
    {
     "name": "stdout",
     "output_type": "stream",
     "text": [
      "[2, 6]\n",
      "[1, 5, 7]\n"
     ]
    }
   ],
   "source": [
    "lista = [6,5,2,1,7]\n",
    "pares = []\n",
    "impares = []\n",
    "for i,n in enumerate(lista):\n",
    "    if n%2 == 0:\n",
    "        pares.append(n)\n",
    "        pares.sort()\n",
    "    else:\n",
    "        impares.append(n)\n",
    "        impares.sort()\n",
    "        \n",
    "print (pares)\n",
    "print (impares)"
   ]
  }
 ],
 "metadata": {
  "kernelspec": {
   "display_name": "Python 3",
   "language": "python",
   "name": "python3"
  },
  "language_info": {
   "codemirror_mode": {
    "name": "ipython",
    "version": 3
   },
   "file_extension": ".py",
   "mimetype": "text/x-python",
   "name": "python",
   "nbconvert_exporter": "python",
   "pygments_lexer": "ipython3",
   "version": "3.8.5"
  }
 },
 "nbformat": 4,
 "nbformat_minor": 4
}
